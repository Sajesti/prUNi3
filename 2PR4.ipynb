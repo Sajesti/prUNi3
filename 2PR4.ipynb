{
  "nbformat": 4,
  "nbformat_minor": 0,
  "metadata": {
    "colab": {
      "provenance": [],
      "authorship_tag": "ABX9TyOZ2IdIM2Ef88w+kbwqv57c",
      "include_colab_link": true
    },
    "kernelspec": {
      "name": "python3",
      "display_name": "Python 3"
    },
    "language_info": {
      "name": "python"
    }
  },
  "cells": [
    {
      "cell_type": "markdown",
      "metadata": {
        "id": "view-in-github",
        "colab_type": "text"
      },
      "source": [
        "<a href=\"https://colab.research.google.com/github/Sajesti/prUNi3/blob/main/2PR4.ipynb\" target=\"_parent\"><img src=\"https://colab.research.google.com/assets/colab-badge.svg\" alt=\"Open In Colab\"/></a>"
      ]
    },
    {
      "cell_type": "code",
      "execution_count": 8,
      "metadata": {
        "id": "40vvfqisbMz-",
        "colab": {
          "base_uri": "https://localhost:8080/"
        },
        "outputId": "4d5e38fd-adb2-4b7b-b481-73d97d21ba24"
      },
      "outputs": [
        {
          "output_type": "stream",
          "name": "stdout",
          "text": [
            "enter a number : 5\n",
            "factorial 5 = 120\n"
          ]
        }
      ],
      "source": [
        "inp = int(input(('enter a number : ')))\n",
        "res= 1\n",
        "for item in range(1,inp+1):\n",
        "    res = item * res\n",
        "print(\"factorial\",inp,\"=\" , res)"
      ]
    }
  ]
}