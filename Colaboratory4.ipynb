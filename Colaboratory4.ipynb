{
  "cells": [
    {
      "cell_type": "markdown",
      "metadata": {
        "id": "view-in-github",
        "colab_type": "text"
      },
      "source": [
        "<a href=\"https://colab.research.google.com/github/Sajesti/prUNi3/blob/main/Colaboratory4.ipynb\" target=\"_parent\"><img src=\"https://colab.research.google.com/assets/colab-badge.svg\" alt=\"Open In Colab\"/></a>"
      ]
    },
    {
      "cell_type": "code",
      "source": [
        "num1 =float(input(\"Enter  number 1 : \"))\n",
        "num2 =float(input(\"Enter  number 2 : \"))\n",
        "\n",
        "print(''' 1. Power (**)\n",
        " 2. Multiply (*)\n",
        " 3. Division (/)\n",
        " 4. Sum (+)\n",
        " 5. Subtract (-)\n",
        " 6. Remaining (%)\n",
        " ''')\n",
        "\n",
        "inp =int(input(\"Enter  operator number : \"))\n",
        "\n",
        "if inp==1:\n",
        "  result= (num1**num2)\n",
        "\n",
        "if inp==2:\n",
        "  result= (num1*num2)\n",
        "\n",
        "if inp==3:\n",
        "  result= (num1/num2)\n",
        "\n",
        "if inp==4:\n",
        "  result=(num1+num2)\n",
        "\n",
        "if inp==5:\n",
        "  result=(num1-num2)\n",
        "\n",
        "if inp==6:\n",
        "  result=(num1+num2)\n",
        "\n",
        "print(result)\n",
        "\n",
        "\n"
      ],
      "metadata": {
        "colab": {
          "base_uri": "https://localhost:8080/"
        },
        "id": "YjnlryXP982V",
        "outputId": "21dbe968-f0df-440f-fb0d-7c2fae9a28e0"
      },
      "execution_count": 62,
      "outputs": [
        {
          "output_type": "stream",
          "name": "stdout",
          "text": [
            "Enter  number 1 : 20\n",
            "Enter  number 2 : 25\n",
            " 1. Power (**)\n",
            " 2. Multiply (*)\n",
            " 3. Division (/)\n",
            " 4. Sum (+)\n",
            " 5. Subtract (-)\n",
            " 6. Remaining (%)\n",
            " \n",
            "Enter  operator number : 5\n",
            "-5.0\n"
          ]
        }
      ]
    }
  ],
  "metadata": {
    "colab": {
      "name": "Welcome To Colaboratory",
      "provenance": [],
      "include_colab_link": true
    },
    "kernelspec": {
      "display_name": "Python 3",
      "name": "python3"
    }
  },
  "nbformat": 4,
  "nbformat_minor": 0
}