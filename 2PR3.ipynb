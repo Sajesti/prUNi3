{
  "nbformat": 4,
  "nbformat_minor": 0,
  "metadata": {
    "colab": {
      "provenance": [],
      "authorship_tag": "ABX9TyMF8hGjiEcgHCxFDPubgtnY",
      "include_colab_link": true
    },
    "kernelspec": {
      "name": "python3",
      "display_name": "Python 3"
    },
    "language_info": {
      "name": "python"
    }
  },
  "cells": [
    {
      "cell_type": "markdown",
      "metadata": {
        "id": "view-in-github",
        "colab_type": "text"
      },
      "source": [
        "<a href=\"https://colab.research.google.com/github/Sajesti/prUNi3/blob/main/2PR3.ipynb\" target=\"_parent\"><img src=\"https://colab.research.google.com/assets/colab-badge.svg\" alt=\"Open In Colab\"/></a>"
      ]
    },
    {
      "cell_type": "code",
      "execution_count": 61,
      "metadata": {
        "id": "40vvfqisbMz-",
        "colab": {
          "base_uri": "https://localhost:8080/"
        },
        "outputId": "3eae314e-cd61-4723-99e3-47e258815fa0"
      },
      "outputs": [
        {
          "output_type": "stream",
          "name": "stdout",
          "text": [
            "enter a number : 4\n",
            "factorial 4 = 288\n"
          ]
        }
      ],
      "source": [
        "inp = int(input(('enter a number : ')))\n",
        "res= 1\n",
        "for item in range(2,inp+1):\n",
        "    res += (item ** item)\n",
        "print(\"factorial\",inp,\"=\" , res)"
      ]
    }
  ]
}