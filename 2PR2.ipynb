{
  "nbformat": 4,
  "nbformat_minor": 0,
  "metadata": {
    "colab": {
      "provenance": [],
      "authorship_tag": "ABX9TyNX7TMQZLJqSL6TfrY45Ie/",
      "include_colab_link": true
    },
    "kernelspec": {
      "name": "python3",
      "display_name": "Python 3"
    },
    "language_info": {
      "name": "python"
    }
  },
  "cells": [
    {
      "cell_type": "markdown",
      "metadata": {
        "id": "view-in-github",
        "colab_type": "text"
      },
      "source": [
        "<a href=\"https://colab.research.google.com/github/Sajesti/prUNi3/blob/main/2PR2.ipynb\" target=\"_parent\"><img src=\"https://colab.research.google.com/assets/colab-badge.svg\" alt=\"Open In Colab\"/></a>"
      ]
    },
    {
      "cell_type": "code",
      "execution_count": 9,
      "metadata": {
        "id": "40vvfqisbMz-",
        "colab": {
          "base_uri": "https://localhost:8080/"
        },
        "outputId": "3c8f84a7-d187-4014-e907-e214bac83377"
      },
      "outputs": [
        {
          "output_type": "stream",
          "name": "stdout",
          "text": [
            "enter a number : 5\n",
            "عدد اول است\n"
          ]
        }
      ],
      "source": [
        "inp = int(input(('enter a number : ')))\n",
        "res=0\n",
        "for item in range(1,inp+1):\n",
        "  if inp % item == 0:\n",
        "    res +=1\n",
        "if (res==2):\n",
        "\tprint(\"عدد اول است\")\n",
        "else:\n",
        "\tprint(\"عدد اول نیست\")"
      ]
    }
  ]
}