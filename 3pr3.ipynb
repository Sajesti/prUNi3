{
  "nbformat": 4,
  "nbformat_minor": 0,
  "metadata": {
    "colab": {
      "provenance": [],
      "authorship_tag": "ABX9TyPXYbR2amvHO4YPpfDyiUJd",
      "include_colab_link": true
    },
    "kernelspec": {
      "name": "python3",
      "display_name": "Python 3"
    },
    "language_info": {
      "name": "python"
    }
  },
  "cells": [
    {
      "cell_type": "markdown",
      "metadata": {
        "id": "view-in-github",
        "colab_type": "text"
      },
      "source": [
        "<a href=\"https://colab.research.google.com/github/Sajesti/prUNi3/blob/main/3pr3.ipynb\" target=\"_parent\"><img src=\"https://colab.research.google.com/assets/colab-badge.svg\" alt=\"Open In Colab\"/></a>"
      ]
    },
    {
      "cell_type": "code",
      "source": [
        "lst=[27,14,80,18,12,7,21,14,80,24,22,21]\n",
        "print(\"list perfectly :\",lst)\n",
        "\n",
        "for item in lst:\n",
        "  e = 0\n",
        "  for item1 in lst:\n",
        "    if item == item1:\n",
        "      if e == 0:\n",
        "         e = 1\n",
        "      else:\n",
        "        lst.remove(item)\n",
        "\n",
        "print(\"modified list :\",lst)\n"
      ],
      "metadata": {
        "colab": {
          "base_uri": "https://localhost:8080/"
        },
        "id": "CztsJyjld8sZ",
        "outputId": "d178df0e-6b7b-4912-b9d7-a5155e550beb"
      },
      "execution_count": 33,
      "outputs": [
        {
          "output_type": "stream",
          "name": "stdout",
          "text": [
            "list perfectly : [27, 14, 80, 18, 12, 7, 21, 14, 80, 24, 22, 21]\n",
            "modified list : [27, 18, 12, 7, 14, 80, 24, 22, 21]\n"
          ]
        }
      ]
    }
  ]
}