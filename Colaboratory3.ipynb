{
  "cells": [
    {
      "cell_type": "markdown",
      "metadata": {
        "id": "view-in-github",
        "colab_type": "text"
      },
      "source": [
        "<a href=\"https://colab.research.google.com/github/Sajesti/prUNi3/blob/main/Colaboratory3.ipynb\" target=\"_parent\"><img src=\"https://colab.research.google.com/assets/colab-badge.svg\" alt=\"Open In Colab\"/></a>"
      ]
    },
    {
      "cell_type": "code",
      "source": [
        "num1 =int(input(\"Enter  zel'e 1 : \"))\n",
        "num2 =int(input(\"Enter  zel'e 2 : \"))\n",
        "\n",
        "watar= ((num1**2) + (num2**2))\n",
        "watar=watar**(1/2)\n",
        "\n",
        "print(watar)\n",
        "\n"
      ],
      "metadata": {
        "colab": {
          "base_uri": "https://localhost:8080/"
        },
        "id": "YjnlryXP982V",
        "outputId": "eba28a21-8818-4bd2-a5f3-ae6fc762c2a2"
      },
      "execution_count": 47,
      "outputs": [
        {
          "output_type": "stream",
          "name": "stdout",
          "text": [
            "Enter a zel'e 1 : 1\n",
            "Enter a zel'e 2 : 3\n",
            "3.1622776601683795\n"
          ]
        }
      ]
    }
  ],
  "metadata": {
    "colab": {
      "provenance": [],
      "include_colab_link": true
    },
    "kernelspec": {
      "display_name": "Python 3",
      "name": "python3"
    }
  },
  "nbformat": 4,
  "nbformat_minor": 0
}