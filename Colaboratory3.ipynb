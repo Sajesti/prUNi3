{
  "cells": [
    {
      "cell_type": "markdown",
      "metadata": {
        "id": "view-in-github",
        "colab_type": "text"
      },
      "source": [
        "<a href=\"https://colab.research.google.com/github/Sajesti/prUNi3/blob/main/Colaboratory3.ipynb\" target=\"_parent\"><img src=\"https://colab.research.google.com/assets/colab-badge.svg\" alt=\"Open In Colab\"/></a>"
      ]
    },
    {
      "cell_type": "code",
      "source": [
        "inp1 =int(input(\"Enter a number1 : \"))\n",
        "inp2=int(input(\"Enter a number2 : \"))\n",
        "inp3=int(input(\"Enter a number3 : \"))\n",
        "min = inp1\n",
        "\n",
        "if min > inp2:\n",
        "  min = inp2\n",
        "if min > inp3:\n",
        "  min = inp3\n",
        "\n",
        "print(min)\n",
        "\n"
      ],
      "metadata": {
        "colab": {
          "base_uri": "https://localhost:8080/"
        },
        "id": "YjnlryXP982V",
        "outputId": "5463857d-0daa-4d52-eff5-7cac1ebdfb80"
      },
      "execution_count": 27,
      "outputs": [
        {
          "output_type": "stream",
          "name": "stdout",
          "text": [
            "Enter a number1 : 3\n",
            "Enter a number2 : 1\n",
            "Enter a number3 : 2\n",
            "1\n"
          ]
        }
      ]
    }
  ],
  "metadata": {
    "colab": {
      "name": "Welcome To Colaboratory",
      "provenance": [],
      "include_colab_link": true
    },
    "kernelspec": {
      "display_name": "Python 3",
      "name": "python3"
    }
  },
  "nbformat": 4,
  "nbformat_minor": 0
}