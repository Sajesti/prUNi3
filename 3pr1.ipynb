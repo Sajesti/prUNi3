{
  "nbformat": 4,
  "nbformat_minor": 0,
  "metadata": {
    "colab": {
      "provenance": [],
      "authorship_tag": "ABX9TyM2iteDZSAx9mn4PUZkUfL2",
      "include_colab_link": true
    },
    "kernelspec": {
      "name": "python3",
      "display_name": "Python 3"
    },
    "language_info": {
      "name": "python"
    }
  },
  "cells": [
    {
      "cell_type": "markdown",
      "metadata": {
        "id": "view-in-github",
        "colab_type": "text"
      },
      "source": [
        "<a href=\"https://colab.research.google.com/github/Sajesti/prUNi3/blob/main/3pr1.ipynb\" target=\"_parent\"><img src=\"https://colab.research.google.com/assets/colab-badge.svg\" alt=\"Open In Colab\"/></a>"
      ]
    },
    {
      "cell_type": "code",
      "execution_count": 4,
      "metadata": {
        "colab": {
          "base_uri": "https://localhost:8080/"
        },
        "id": "HO-Et1cV6qPy",
        "outputId": "70fc498f-3f96-41e0-bb01-0d4d61efa27c"
      },
      "outputs": [
        {
          "output_type": "stream",
          "name": "stdout",
          "text": [
            "list= [5, 12, 14, 18, 26, 26, 27, 29, 80]\n",
            "min= 12 max= 29\n"
          ]
        }
      ],
      "source": [
        "lst = [14,5,26,29,80,27,18,12,26]\n",
        "l=lst.sort()\n",
        "min=lst[1]\n",
        "max=lst[-2]\n",
        "\n",
        "print(\"list=\",lst)\n",
        "print(\"min=\",min, \"max=\",max )"
      ]
    }
  ]
}