{
  "nbformat": 4,
  "nbformat_minor": 0,
  "metadata": {
    "colab": {
      "provenance": [],
      "authorship_tag": "ABX9TyOKbWO1iX6ckhpb6B+pvbhL",
      "include_colab_link": true
    },
    "kernelspec": {
      "name": "python3",
      "display_name": "Python 3"
    },
    "language_info": {
      "name": "python"
    }
  },
  "cells": [
    {
      "cell_type": "markdown",
      "metadata": {
        "id": "view-in-github",
        "colab_type": "text"
      },
      "source": [
        "<a href=\"https://colab.research.google.com/github/Sajesti/prUNi3/blob/main/2PR6.ipynb\" target=\"_parent\"><img src=\"https://colab.research.google.com/assets/colab-badge.svg\" alt=\"Open In Colab\"/></a>"
      ]
    },
    {
      "cell_type": "code",
      "execution_count": 4,
      "metadata": {
        "id": "459xBeG1ppkA",
        "colab": {
          "base_uri": "https://localhost:8080/"
        },
        "outputId": "aa59ef1a-bf1f-4278-b371-5287e2cd36bf"
      },
      "outputs": [
        {
          "output_type": "stream",
          "name": "stdout",
          "text": [
            "enter line number :3\n",
            "***\n",
            "**\n",
            "*\n",
            "*\n",
            "**\n",
            "***\n",
            "   *\n",
            "  **\n",
            " ***\n",
            " ***\n",
            "  **\n",
            "   *\n"
          ]
        }
      ],
      "source": [
        "inp=int(input(\"enter line number :\"))\n",
        "for i in range(1,inp+1):\n",
        "    print((inp+1-i) * \"*\")\n",
        "\n",
        "for i in range(1,inp+1):\n",
        "    print(i*\"*\")\n",
        "\n",
        "for i in range(1,inp+1):\n",
        "    print((inp-i)*\" \",i*\"*\")\n",
        "\n",
        "for i in range(1,inp+1):\n",
        "    print((i-1)*\" \" , (inp+1-i) * \"*\")"
      ]
    }
  ]
}