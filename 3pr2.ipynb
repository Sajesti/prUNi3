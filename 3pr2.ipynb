{
  "nbformat": 4,
  "nbformat_minor": 0,
  "metadata": {
    "colab": {
      "provenance": [],
      "authorship_tag": "ABX9TyMYYaCzAecUmNyByDqrtHkh",
      "include_colab_link": true
    },
    "kernelspec": {
      "name": "python3",
      "display_name": "Python 3"
    },
    "language_info": {
      "name": "python"
    }
  },
  "cells": [
    {
      "cell_type": "markdown",
      "metadata": {
        "id": "view-in-github",
        "colab_type": "text"
      },
      "source": [
        "<a href=\"https://colab.research.google.com/github/Sajesti/prUNi3/blob/main/3pr2.ipynb\" target=\"_parent\"><img src=\"https://colab.research.google.com/assets/colab-badge.svg\" alt=\"Open In Colab\"/></a>"
      ]
    },
    {
      "cell_type": "code",
      "execution_count": 12,
      "metadata": {
        "colab": {
          "base_uri": "https://localhost:8080/"
        },
        "id": "V01EvIntY9IX",
        "outputId": "c428675b-8fd9-4d2b-a647-58c5e7519d94"
      },
      "outputs": [
        {
          "output_type": "stream",
          "name": "stdout",
          "text": [
            "enter number list: 2\n",
            "enter: 3\n",
            "enter: 2\n",
            "list perfectly : [3, 2]\n",
            "list 1 : [3, 2]\n"
          ]
        }
      ],
      "source": [
        "inp = int(input(\"enter number list: \"))\n",
        "\n",
        "i = 0\n",
        "n = 1\n",
        "lst = [0]*inp\n",
        "lst1 = []\n",
        "\n",
        "x = inp / 3\n",
        "\n",
        "while i < inp:\n",
        "    l = int(input(\"enter: \"))\n",
        "    lst[i]=l\n",
        "    i+=1\n",
        "print(\"list perfectly :\",lst)\n",
        "\n",
        "for item in lst:\n",
        "    lst1.append(item)\n",
        "    if len(lst1) == 3:\n",
        "        print('list',n,':', lst1)\n",
        "        n+=1\n",
        "        lst1.clear()\n",
        "\n",
        "if lst1 != []:\n",
        "    print('list',n,':', lst1)"
      ]
    }
  ]
}