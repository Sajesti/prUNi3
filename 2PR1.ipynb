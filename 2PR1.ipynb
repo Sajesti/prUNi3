{
  "nbformat": 4,
  "nbformat_minor": 0,
  "metadata": {
    "colab": {
      "provenance": [],
      "authorship_tag": "ABX9TyMG6XIPOapj6IVdCylIwpVw",
      "include_colab_link": true
    },
    "kernelspec": {
      "name": "python3",
      "display_name": "Python 3"
    },
    "language_info": {
      "name": "python"
    }
  },
  "cells": [
    {
      "cell_type": "markdown",
      "metadata": {
        "id": "view-in-github",
        "colab_type": "text"
      },
      "source": [
        "<a href=\"https://colab.research.google.com/github/Sajesti/prUNi3/blob/main/2PR1.ipynb\" target=\"_parent\"><img src=\"https://colab.research.google.com/assets/colab-badge.svg\" alt=\"Open In Colab\"/></a>"
      ]
    },
    {
      "cell_type": "code",
      "execution_count": null,
      "metadata": {
        "id": "40vvfqisbMz-",
        "colab": {
          "base_uri": "https://localhost:8080/"
        },
        "outputId": "675f8b4a-abfb-4ac6-e208-9e57ce94a152"
      },
      "outputs": [
        {
          "output_type": "stream",
          "name": "stdout",
          "text": [
            "enter a number : 7\n",
            "It is not a perfect number.\n"
          ]
        }
      ],
      "source": [
        "inp = int(input(('enter a number : ')))\n",
        "res=0\n",
        "for item in range(1,inp):\n",
        "  if inp%item==0:\n",
        "    res +=item\n",
        "if (res==inp):\n",
        "\tprint(\"is perfect number\")\n",
        "else:\n",
        "\tprint(\"is not perfect number\")"
      ]
    }
  ]
}