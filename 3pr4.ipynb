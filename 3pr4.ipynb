{
  "nbformat": 4,
  "nbformat_minor": 0,
  "metadata": {
    "colab": {
      "provenance": [],
      "authorship_tag": "ABX9TyN88XWDsDYx6wTwyZudHEy4",
      "include_colab_link": true
    },
    "kernelspec": {
      "name": "python3",
      "display_name": "Python 3"
    },
    "language_info": {
      "name": "python"
    }
  },
  "cells": [
    {
      "cell_type": "markdown",
      "metadata": {
        "id": "view-in-github",
        "colab_type": "text"
      },
      "source": [
        "<a href=\"https://colab.research.google.com/github/Sajesti/prUNi3/blob/main/3pr4.ipynb\" target=\"_parent\"><img src=\"https://colab.research.google.com/assets/colab-badge.svg\" alt=\"Open In Colab\"/></a>"
      ]
    },
    {
      "cell_type": "code",
      "execution_count": 35,
      "metadata": {
        "colab": {
          "base_uri": "https://localhost:8080/"
        },
        "id": "cT7iEhZvngQ3",
        "outputId": "409af737-14d4-4d9d-9813-c11c32a1d7e9"
      },
      "outputs": [
        {
          "output_type": "stream",
          "name": "stdout",
          "text": [
            " list 1 : [27, 14, 80, 18, 12, 7, 21, 14, 80, 24, 21, 21] \n",
            " list 2 : [14, 22, 27, 19, 27, 18]\n",
            "\n",
            " list 3 : ['14 = 2', '22 = 0', '27 = 1', '19 = 0', '27 = 1', '18 = 1']\n"
          ]
        }
      ],
      "source": [
        "lst1=[27,14,80,18,12,7,21,14,80,24,21,21]\n",
        "lst2=[14,22,27,19,27,18]\n",
        "\n",
        "lst3=[]\n",
        "\n",
        "e=0\n",
        "\n",
        "for item2 in lst2:\n",
        "  for item1 in lst1:\n",
        "    if item2 == item1:\n",
        "      e += 1\n",
        "  lst3.append( f'{item2} = {e}' )\n",
        "  e = 0\n",
        "\n",
        "print(\" list 1 :\",lst1 ,\"\\n\",\"list 2 :\",lst2)\n",
        "print(\"\\n\",\"list 3 :\",lst3)"
      ]
    }
  ]
}