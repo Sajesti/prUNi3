{
  "cells": [
    {
      "cell_type": "markdown",
      "metadata": {
        "id": "view-in-github",
        "colab_type": "text"
      },
      "source": [
        "<a href=\"https://colab.research.google.com/github/Sajesti/prUNi3/blob/main/Colaboratory1.ipynb\" target=\"_parent\"><img src=\"https://colab.research.google.com/assets/colab-badge.svg\" alt=\"Open In Colab\"/></a>"
      ]
    },
    {
      "cell_type": "code",
      "source": [
        "inp =int(input(\"Enter a number : \"))\n",
        "\n",
        "if inp%3 == 0 :\n",
        "  print(\"*\"*30)\n",
        "\n",
        "if inp%5 == 0 :\n",
        "  print(\"*\"*50)\n",
        "\n",
        "elif inp%7 == 0 :\n",
        "  print(\"*\"*70)\n",
        "\n",
        "else :\n",
        "  print(\"*\"*100)\n",
        "\n"
      ],
      "metadata": {
        "colab": {
          "base_uri": "https://localhost:8080/"
        },
        "id": "YjnlryXP982V",
        "outputId": "dec9dc47-54ae-4e30-e942-0525daba52ba"
      },
      "execution_count": 2,
      "outputs": [
        {
          "output_type": "stream",
          "name": "stdout",
          "text": [
            "Enter a number : 52\n",
            "****************************************************************************************************\n"
          ]
        }
      ]
    }
  ],
  "metadata": {
    "colab": {
      "provenance": [],
      "include_colab_link": true
    },
    "kernelspec": {
      "display_name": "Python 3",
      "name": "python3"
    }
  },
  "nbformat": 4,
  "nbformat_minor": 0
}