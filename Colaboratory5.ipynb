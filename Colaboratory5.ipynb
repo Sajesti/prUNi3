{
  "cells": [
    {
      "cell_type": "markdown",
      "metadata": {
        "id": "view-in-github",
        "colab_type": "text"
      },
      "source": [
        "<a href=\"https://colab.research.google.com/github/Sajesti/prUNi3/blob/main/Colaboratory5.ipynb\" target=\"_parent\"><img src=\"https://colab.research.google.com/assets/colab-badge.svg\" alt=\"Open In Colab\"/></a>"
      ]
    },
    {
      "cell_type": "code",
      "source": [
        "print('''1. Circle\n",
        "2. Square\n",
        "3. rectangle\n",
        " ''')\n",
        "\n",
        "inp =int(input(\"Enter  operator number : \"))\n",
        "\n",
        "\n",
        "if inp==1:\n",
        "  num1 =float(input(\"شعاع را وارد کنید : \"))\n",
        "  #num2 =float(input(\"Enter  number 2 : \"))\n",
        "  area= (num1*num1*3.14)\n",
        "  perimeter= ((num1+num1)*3.14)\n",
        "  print(\"مساحت =\",area ,'\\n', \"محیط =\", perimeter)\n",
        "\n",
        "if inp==2:\n",
        "  num1 =float(input(\"اندازه یک ضلع را وارد کنید : \"))\n",
        "  area= num1*num1\n",
        "  perimeter= num1*4\n",
        "  print(\"مساحت =\",area ,'\\n', \"محیط =\", perimeter)\n",
        "\n",
        "if inp==3:\n",
        "  num1 =float(input(\"طول مستطیل را وارد کنید : \"))\n",
        "  num2 =float(input(\"عرض مستطیل را وارد کنید : \"))\n",
        "  area= num1*num2\n",
        "  perimeter= (num1+num2)*2\n",
        "  print(\"مساحت =\",area ,'\\n', \"محیط =\", perimeter)\n",
        "\n",
        "\n",
        "\n",
        "\n"
      ],
      "metadata": {
        "colab": {
          "base_uri": "https://localhost:8080/"
        },
        "id": "YjnlryXP982V",
        "outputId": "ab45db22-7c11-4c3d-9a61-03ebcec06c17"
      },
      "execution_count": 85,
      "outputs": [
        {
          "output_type": "stream",
          "name": "stdout",
          "text": [
            "1. Circle \n",
            "2. Square \n",
            "3. rectangle\n",
            " \n",
            "Enter  operator number : 3\n",
            "طول مستطیل را وارد کنید : 5\n",
            "عرض مستطیل را وارد کنید : 2\n",
            "مساحت = 10.0 \n",
            " محیط = 14.0\n"
          ]
        }
      ]
    }
  ],
  "metadata": {
    "colab": {
      "name": "Welcome To Colaboratory",
      "provenance": [],
      "include_colab_link": true
    },
    "kernelspec": {
      "display_name": "Python 3",
      "name": "python3"
    }
  },
  "nbformat": 4,
  "nbformat_minor": 0
}